{
 "cells": [
  {
   "cell_type": "code",
   "execution_count": 1,
   "metadata": {},
   "outputs": [],
   "source": [
    "import cv2\n",
    "import numpy as np\n",
    "import time"
   ]
  },
  {
   "cell_type": "code",
   "execution_count": 2,
   "metadata": {},
   "outputs": [],
   "source": [
    "cnt_up   = 0\n",
    "cnt_down = 0"
   ]
  },
  {
   "cell_type": "code",
   "execution_count": 12,
   "metadata": {},
   "outputs": [],
   "source": [
    "cap = cv2.VideoCapture('jacob4.mp4')"
   ]
  },
  {
   "cell_type": "code",
   "execution_count": 13,
   "metadata": {},
   "outputs": [],
   "source": [
    "fgbg = cv2.createBackgroundSubtractorMOG2(detectShadows = True) #Create the background substractor"
   ]
  },
  {
   "cell_type": "code",
   "execution_count": 14,
   "metadata": {},
   "outputs": [],
   "source": [
    "kernelOp = np.ones((3,3),np.uint8)\n",
    "kernelCl = np.ones((11,11),np.uint8)"
   ]
  },
  {
   "cell_type": "code",
   "execution_count": 15,
   "metadata": {},
   "outputs": [],
   "source": [
    "font = cv2.FONT_HERSHEY_SIMPLEX\n",
    "persons = []\n",
    "max_p_age = 5\n",
    "pid = 1\n",
    "areaTH = 500"
   ]
  },
  {
   "cell_type": "code",
   "execution_count": 16,
   "metadata": {},
   "outputs": [
    {
     "name": "stdout",
     "output_type": "stream",
     "text": [
      "Area Threshold 737.28\n"
     ]
    }
   ],
   "source": [
    "w = cap.get(3)\n",
    "h = cap.get(4)\n",
    "frameArea = h*w\n",
    "areaTH = frameArea/250\n",
    "print ('Area Threshold', areaTH)"
   ]
  },
  {
   "cell_type": "code",
   "execution_count": 17,
   "metadata": {},
   "outputs": [],
   "source": [
    "line_up = int(2*(h/5))\n",
    "line_down   = int(3*(h/5))\n",
    "\n",
    "up_limit =   int(1*(h/5))\n",
    "down_limit = int(4*(h/5))"
   ]
  },
  {
   "cell_type": "code",
   "execution_count": 18,
   "metadata": {},
   "outputs": [
    {
     "name": "stdout",
     "output_type": "stream",
     "text": [
      "Red line y: 345\n",
      "Blue line y: 230\n"
     ]
    }
   ],
   "source": [
    "print (\"Red line y:\", str(line_down))\n",
    "print (\"Blue line y:\", str(line_up))\n",
    "line_down_color = (255,0,0)\n",
    "line_up_color = (0,0,255)\n",
    "pt1 =  [0, line_down];\n",
    "pt2 =  [w, line_down];\n",
    "pts_L1 = np.array([pt1,pt2], np.int32)\n",
    "pts_L1 = pts_L1.reshape((-1,1,2))\n",
    "pt3 =  [0, line_up];\n",
    "pt4 =  [w, line_up];\n",
    "pts_L2 = np.array([pt3,pt4], np.int32)\n",
    "pts_L2 = pts_L2.reshape((-1,1,2))\n",
    "\n",
    "pt5 =  [0, up_limit];\n",
    "pt6 =  [w, up_limit];\n",
    "pts_L3 = np.array([pt5,pt6], np.int32)\n",
    "pts_L3 = pts_L3.reshape((-1,1,2))\n",
    "pt7 =  [0, down_limit];\n",
    "pt8 =  [w, down_limit];\n",
    "pts_L4 = np.array([pt7,pt8], np.int32)\n",
    "pts_L4 = pts_L4.reshape((-1,1,2))"
   ]
  },
  {
   "cell_type": "code",
   "execution_count": 19,
   "metadata": {},
   "outputs": [],
   "source": [
    "class Persons:\n",
    "    def __init__(self, pid, x, y, maxpage):\n",
    "        self.id = pid\n",
    "        self.x = x\n",
    "        self.y = y\n",
    "        self.maxpage = maxpage\n",
    "        self.data = []\n",
    "        self.age = 0\n",
    "        self.state = 0\n",
    "        self.direction = \"none\"\n",
    "        self.done = 0\n",
    "    def getTracks(self):\n",
    "        return self.data\n",
    "    def getId(self):\n",
    "        return self.id\n",
    "    def getX(self):\n",
    "        return self.x\n",
    "    def getY(self):\n",
    "        return self.y\n",
    "    def updateCoords(self, a, b):\n",
    "        self.data.append([self.x, self.y])\n",
    "        self.x = a\n",
    "        self.y = b\n",
    "    def age_one(self):\n",
    "        self.age += 1\n",
    "    def going_UP(self, linedown, lineup):\n",
    "        if (self.y < linedown and self.data[-1][1] > linedown): \n",
    "            self.direction = \"up\"\n",
    "            self.state = 1\n",
    "            return True\n",
    "        else: return False\n",
    "    def going_DOWN(self, linedown, lineup):\n",
    "        if (self.y > lineup and self.data[-1][1] < lineup): \n",
    "            self.direction = \"down\"\n",
    "            self.state = 1\n",
    "            return True\n",
    "        else: return False\n",
    "    def getState(self):\n",
    "        return self.state\n",
    "    def getDir(self):\n",
    "        return self.direction\n",
    "    def setDone(self):\n",
    "        self.done = 1\n",
    "    def timedOut(self):\n",
    "        if (self.age > 10): return True\n",
    "        elif (self.done == 1): return True\n",
    "        else: return False"
   ]
  },
  {
   "cell_type": "code",
   "execution_count": 20,
   "metadata": {},
   "outputs": [
    {
     "name": "stdout",
     "output_type": "stream",
     "text": [
      "ID: 1 crossed going down at Sat Jul 14 18:11:07 2018\n",
      "ID: 1 crossed going up at Sat Jul 14 18:11:12 2018\n",
      "ID: 1 crossed going down at Sat Jul 14 18:11:18 2018\n",
      "ID: 4 crossed going down at Sat Jul 14 18:11:33 2018\n",
      "EOF\n",
      "UP: 2\n",
      "DOWN: 6\n"
     ]
    }
   ],
   "source": [
    "while(cap.isOpened()):\n",
    "    ret, frame = cap.read()\n",
    "    for i in persons:\n",
    "        i.age_one() #age every person one frame\n",
    "\n",
    "    fgmask = fgbg.apply(frame)\n",
    "    fgmask2 = fgbg.apply(frame)\n",
    "    try:\n",
    "        ret,imBin= cv2.threshold(fgmask,200,255,cv2.THRESH_BINARY)\n",
    "        ret,imBin2 = cv2.threshold(fgmask2,200,255,cv2.THRESH_BINARY)\n",
    "        mask = cv2.morphologyEx(imBin, cv2.MORPH_OPEN, kernelOp)\n",
    "        mask2 = cv2.morphologyEx(imBin2, cv2.MORPH_OPEN, kernelOp)\n",
    "        mask =  cv2.morphologyEx(mask , cv2.MORPH_CLOSE, kernelCl)\n",
    "        mask2 = cv2.morphologyEx(mask2, cv2.MORPH_CLOSE, kernelCl)\n",
    "    except:\n",
    "        print('EOF')\n",
    "        print('UP:',cnt_up)\n",
    "        print('DOWN:',cnt_down)\n",
    "        break\n",
    "\n",
    "    _, contours0, hierarchy = cv2.findContours(mask2,cv2.RETR_EXTERNAL,cv2.CHAIN_APPROX_SIMPLE)\n",
    "    for cnt in contours0:\n",
    "        area = cv2.contourArea(cnt)\n",
    "        if area > areaTH:\n",
    "            M = cv2.moments(cnt)\n",
    "            cx = int(M['m10']/M['m00'])\n",
    "            cy = int(M['m01']/M['m00'])\n",
    "            x,y,w,h = cv2.boundingRect(cnt)\n",
    "\n",
    "            new = True\n",
    "            if (cy in range(up_limit,down_limit)):\n",
    "                for i in persons:\n",
    "                    if (abs(cx-i.getX()) <= w and abs(cy-i.getY()) <= h):\n",
    "                        new = False\n",
    "                        i.updateCoords(cx,cy)   \n",
    "                        if (i.going_UP(line_down,line_up) == True):\n",
    "                            cnt_up += 1;\n",
    "                            print (\"ID:\",i.getId(),'crossed going up at',time.strftime(\"%c\"))\n",
    "                        elif (i.going_DOWN(line_down,line_up) == True):\n",
    "                            cnt_down += 1;\n",
    "                            print (\"ID:\",i.getId(),'crossed going down at',time.strftime(\"%c\"))\n",
    "                        break\n",
    "                    if (i.getState() == 1):\n",
    "                        if (i.getDir() == 'down' and i.getY() > down_limit):\n",
    "                            i.setDone()\n",
    "                        elif (i.getDir() == 'up' and i.getY() < up_limit):\n",
    "                            i.setDone()\n",
    "                    if (i.timedOut()):\n",
    "                        index = persons.index(i)\n",
    "                        persons.pop(index)\n",
    "                        del i     \n",
    "                if (new == True):\n",
    "                    p = Persons(pid, cx, cy, max_p_age)\n",
    "                    persons.append(p)\n",
    "                    pid += 1     \n",
    "\n",
    "            cv2.circle(frame,(cx,cy), 5, (0,0,255), -1)\n",
    "            img = cv2.rectangle(frame,(x,y),(x+w,y+h),(0,255,0),2)            \n",
    "\n",
    "    for i in persons:\n",
    "        cv2.putText(frame, str(i.getId()),(i.getX(),i.getY()),font,0.3,(0, 0, 255),1,cv2.LINE_AA)\n",
    "\n",
    "    str_up = 'UP: '+ str(cnt_up)\n",
    "    str_down = 'DOWN: '+ str(cnt_down)\n",
    "    frame = cv2.polylines(frame,[pts_L1],False,line_down_color,thickness=2)\n",
    "    frame = cv2.polylines(frame,[pts_L2],False,line_up_color,thickness=2)\n",
    "    frame = cv2.polylines(frame,[pts_L3],False,(255,255,255),thickness=1)\n",
    "    frame = cv2.polylines(frame,[pts_L4],False,(255,255,255),thickness=1)\n",
    "    cv2.putText(frame, str_up ,(10,40),font,0.5,(255,255,255),2,cv2.LINE_AA)\n",
    "    cv2.putText(frame, str_up ,(10,40),font,0.5,(0,0,255),1,cv2.LINE_AA)\n",
    "    cv2.putText(frame, str_down ,(10,90),font,0.5,(255,255,255),2,cv2.LINE_AA)\n",
    "    cv2.putText(frame, str_down ,(10,90),font,0.5,(255,0,0),1,cv2.LINE_AA)\n",
    "\n",
    "    cv2.imshow('Frame',frame)\n",
    "\n",
    "    k = cv2.waitKey(30) & 0xff\n",
    "    if (k == 27): break\n",
    "\n",
    "cap.release()\n",
    "cv2.destroyAllWindows()"
   ]
  },
  {
   "cell_type": "code",
   "execution_count": null,
   "metadata": {},
   "outputs": [],
   "source": []
  }
 ],
 "metadata": {
  "kernelspec": {
   "display_name": "Python 3",
   "language": "python",
   "name": "python3"
  },
  "language_info": {
   "codemirror_mode": {
    "name": "ipython",
    "version": 3
   },
   "file_extension": ".py",
   "mimetype": "text/x-python",
   "name": "python",
   "nbconvert_exporter": "python",
   "pygments_lexer": "ipython3",
   "version": "3.6.4"
  }
 },
 "nbformat": 4,
 "nbformat_minor": 2
}
